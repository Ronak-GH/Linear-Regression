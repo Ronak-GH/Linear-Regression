{
 "cells": [
  {
   "cell_type": "markdown",
   "id": "eb2167d0",
   "metadata": {},
   "source": [
    "# Calculate simple linear regression"
   ]
  },
  {
   "cell_type": "code",
   "execution_count": null,
   "id": "252e38c3",
   "metadata": {},
   "outputs": [],
   "source": [
    "import matplotlib.pyplot as plt\n",
    "import pandas as pd\n",
    "import numpy as np"
   ]
  },
  {
   "cell_type": "code",
   "execution_count": null,
   "id": "71e5a70c",
   "metadata": {},
   "outputs": [],
   "source": [
    "x = [1,2,3,4,7,8,9,10, 11, 12, 10, 9, 9, 10, 12, 11,13,14,15,17,18,19,20,21,22]\n",
    "y = [3,4,5,6,5,9,10,11,14,13,15, 11, 12, 11, 13, 15,15,16,17,20,16,21,23,24,25]\n",
    "x=np.array(x)\n",
    "y=np.array(y)\n",
    "\n",
    "def estimate_coef(x,y):\n",
    "    #number of observations\n",
    "    n=np.size(x)\n",
    "    \n",
    "    #mean of x & y vector\n",
    "    m_x,m_y=np.mean(x),np.mean(y)\n",
    "    \n",
    "    #Calculating cross deviation and deviation of x\n",
    "    SS_xy=np.sum(y*x)-n*m_y*m_x\n",
    "    SS_xx=np.sum(x*x)-n*m_x*m_x\n",
    "    \n",
    "    #Regression coefficient\n",
    "    b1= SS_xy/SS_xx\n",
    "    b0=m_y-b1*m_x\n",
    "    return(b0,b1)\n",
    "\n",
    "def plot_regression_line(x,y,b):\n",
    "    plt.scatter(x,y,color=\"m\",marker=\"o\",s=30)\n",
    "    \n",
    "    y_pred=b[0]+b[1]*x\n",
    "    \n",
    "    #plotting regression line\n",
    "    plt.plot(x,y_pred,color=\"g\")\n",
    "\n",
    "    plt.xlabel('x')\n",
    "    plt.ylabel('y')\n",
    "    \n",
    "    plt.show()\n",
    "    \n",
    "def main():\n",
    "    \n",
    "    x = np.array([1,2,3,4,7,8,9,10, 11, 12, 10, 9, 9, 10, 12, 11,13,14,15,17,18,19,20,21,22])\n",
    "    y = np.array([3,4,5,6,5,9,10,11,14,13,15, 11, 12, 11, 13, 15,15,16,17,20,16,21,23,24,25])\n",
    "    \n",
    "    b=estimate_coef(x,y)\n",
    "    print(b[0])\n",
    "    print(b[1])\n",
    "    \n",
    "    plot_regression_line(x,y,b)\n",
    "    \n",
    "main()    "
   ]
  },
  {
   "cell_type": "code",
   "execution_count": null,
   "id": "8c018669",
   "metadata": {},
   "outputs": [],
   "source": [
    "#let's do prediction\n",
    "y=1.52+1.031*2\n",
    "print(y)"
   ]
  },
  {
   "cell_type": "markdown",
   "id": "ab9c15ea",
   "metadata": {},
   "source": [
    "# Using dataset - To predict Salary"
   ]
  },
  {
   "cell_type": "code",
   "execution_count": 2,
   "id": "4c65edad",
   "metadata": {},
   "outputs": [],
   "source": [
    "import pandas as pd\n",
    "import numpy as np\n",
    "import matplotlib.pyplot as plt\n",
    "import seaborn as sns\n",
    "from sklearn.model_selection import train_test_split\n",
    "from pandas.core.common import random_state\n",
    "from sklearn.linear_model import LinearRegression"
   ]
  },
  {
   "cell_type": "code",
   "execution_count": 3,
   "id": "6764ca32",
   "metadata": {},
   "outputs": [
    {
     "data": {
      "text/html": [
       "<div>\n",
       "<style scoped>\n",
       "    .dataframe tbody tr th:only-of-type {\n",
       "        vertical-align: middle;\n",
       "    }\n",
       "\n",
       "    .dataframe tbody tr th {\n",
       "        vertical-align: top;\n",
       "    }\n",
       "\n",
       "    .dataframe thead th {\n",
       "        text-align: right;\n",
       "    }\n",
       "</style>\n",
       "<table border=\"1\" class=\"dataframe\">\n",
       "  <thead>\n",
       "    <tr style=\"text-align: right;\">\n",
       "      <th></th>\n",
       "      <th>YearsExperience</th>\n",
       "      <th>Salary</th>\n",
       "    </tr>\n",
       "  </thead>\n",
       "  <tbody>\n",
       "    <tr>\n",
       "      <th>0</th>\n",
       "      <td>1.1</td>\n",
       "      <td>39343.0</td>\n",
       "    </tr>\n",
       "    <tr>\n",
       "      <th>1</th>\n",
       "      <td>1.3</td>\n",
       "      <td>46205.0</td>\n",
       "    </tr>\n",
       "    <tr>\n",
       "      <th>2</th>\n",
       "      <td>1.5</td>\n",
       "      <td>37731.0</td>\n",
       "    </tr>\n",
       "    <tr>\n",
       "      <th>3</th>\n",
       "      <td>2.0</td>\n",
       "      <td>43525.0</td>\n",
       "    </tr>\n",
       "    <tr>\n",
       "      <th>4</th>\n",
       "      <td>2.2</td>\n",
       "      <td>39891.0</td>\n",
       "    </tr>\n",
       "  </tbody>\n",
       "</table>\n",
       "</div>"
      ],
      "text/plain": [
       "   YearsExperience   Salary\n",
       "0              1.1  39343.0\n",
       "1              1.3  46205.0\n",
       "2              1.5  37731.0\n",
       "3              2.0  43525.0\n",
       "4              2.2  39891.0"
      ]
     },
     "execution_count": 3,
     "metadata": {},
     "output_type": "execute_result"
    }
   ],
   "source": [
    "df_sal=pd.read_csv(r\"C:\\Users\\ronak\\Downloads\\Stat\\Salary_Data.csv\")\n",
    "df_sal.head()"
   ]
  },
  {
   "cell_type": "code",
   "execution_count": null,
   "id": "18b3f511",
   "metadata": {},
   "outputs": [],
   "source": [
    "df_sal.describe()"
   ]
  },
  {
   "cell_type": "markdown",
   "id": "8d43ddd8",
   "metadata": {},
   "source": [
    "# Check for Linear Relationship:\n",
    "Ensure that there is a linear relationship between the independent variable (experience) and the dependent variable (salary). You can do this by plotting a scatter plot. \n",
    "You can also use correlation coefficients."
   ]
  },
  {
   "cell_type": "code",
   "execution_count": 4,
   "id": "7c484477",
   "metadata": {},
   "outputs": [
    {
     "name": "stderr",
     "output_type": "stream",
     "text": [
      "C:\\Users\\ronak\\anaconda3\\lib\\site-packages\\seaborn\\distributions.py:2619: FutureWarning: `distplot` is a deprecated function and will be removed in a future version. Please adapt your code to use either `displot` (a figure-level function with similar flexibility) or `histplot` (an axes-level function for histograms).\n",
      "  warnings.warn(msg, FutureWarning)\n"
     ]
    },
    {
     "data": {
      "image/png": "[encoded data removed]",
      "text/plain": [
       "<Figure size 432x288 with 1 Axes>"
      ]
     },
     "metadata": {
      "needs_background": "light"
     },
     "output_type": "display_data"
    },
    {
     "name": "stdout",
     "output_type": "stream",
     "text": [
      "                 YearsExperience    Salary\n",
      "YearsExperience         1.000000  0.978242\n",
      "Salary                  0.978242  1.000000\n"
     ]
    }
   ],
   "source": [
    "plt.title('Salary Distribution Plot')\n",
    "sns.distplot(df_sal['Salary'])\n",
    "plt.show()\n",
    "\n",
    "correlation = df_sal.corr()\n",
    "print(correlation)"
   ]
  },
  {
   "cell_type": "code",
   "execution_count": null,
   "id": "cc2a0542",
   "metadata": {},
   "outputs": [],
   "source": [
    "plt.scatter(df_sal['YearsExperience'],df_sal['Salary'],color='lightcoral')\n",
    "plt.title('Salary vs Experience')\n",
    "plt.xlabel('Experience')\n",
    "plt.ylabel('Salary')\n",
    "plt.show()"
   ]
  },
  {
   "cell_type": "code",
   "execution_count": 6,
   "id": "2aa30400",
   "metadata": {},
   "outputs": [],
   "source": [
    "#splitting variable into independent and dependent variable\n",
    "x=df_sal.iloc[:,:1] #Independent\n",
    "y=df_sal.iloc[:,1:] #Dependent"
   ]
  },
  {
   "cell_type": "code",
   "execution_count": 7,
   "id": "30150f87",
   "metadata": {},
   "outputs": [],
   "source": [
    "x_train,x_test,y_train,y_test=train_test_split(x,y,test_size=0.2,random_state=0)"
   ]
  },
  {
   "cell_type": "code",
   "execution_count": 8,
   "id": "a708de8a",
   "metadata": {},
   "outputs": [
    {
     "data": {
      "text/plain": [
       "LinearRegression()"
      ]
     },
     "execution_count": 8,
     "metadata": {},
     "output_type": "execute_result"
    }
   ],
   "source": [
    "regressor=LinearRegression()\n",
    "regressor.fit(x_train,y_train)"
   ]
  },
  {
   "cell_type": "code",
   "execution_count": 9,
   "id": "ae53c51b",
   "metadata": {},
   "outputs": [],
   "source": [
    "y_pred_test=regressor.predict(x_test)\n",
    "y_pred_train=regressor.predict(x_train)"
   ]
  },
  {
   "cell_type": "markdown",
   "id": "4027ae09",
   "metadata": {},
   "source": [
    "# Check for Homoscedasticity:\n",
    "The variance of the residuals (errors) should be constant. \n",
    "Plotting residuals vs. fitted values can help check this assumption."
   ]
  },
  {
   "cell_type": "code",
   "execution_count": 10,
   "id": "67857c7e",
   "metadata": {},
   "outputs": [
    {
     "data": {
      "image/png": "[encoded data removed]",
      "text/plain": [
       "<Figure size 432x288 with 1 Axes>"
      ]
     },
     "metadata": {
      "needs_background": "light"
     },
     "output_type": "display_data"
    }
   ],
   "source": [
    "residuals = y_test - y_pred_test\n",
    "plt.scatter(y_pred_test, residuals)\n",
    "plt.xlabel('Predicted Salary')\n",
    "plt.ylabel('Residuals')\n",
    "plt.title('Residuals vs Predicted Salary')\n",
    "plt.show()"
   ]
  },
  {
   "cell_type": "markdown",
   "id": "7de25dca",
   "metadata": {},
   "source": [
    "# Check for Normality of Residuals:\n",
    "Residuals should be normally distributed. You can use a Q-Q plot to check this."
   ]
  },
  {
   "cell_type": "code",
   "execution_count": 11,
   "id": "fc88d2c8",
   "metadata": {},
   "outputs": [
    {
     "name": "stderr",
     "output_type": "stream",
     "text": [
      "C:\\Users\\ronak\\anaconda3\\lib\\site-packages\\statsmodels\\graphics\\gofplots.py:993: UserWarning: marker is redundantly defined by the 'marker' keyword argument and the fmt string \"bo\" (-> marker='o'). The keyword argument will take precedence.\n",
      "  ax.plot(x, y, fmt, **plot_style)\n"
     ]
    },
    {
     "data": {
      "image/png": "[encoded data removed]",
      "text/plain": [
       "<Figure size 432x288 with 1 Axes>"
      ]
     },
     "metadata": {
      "needs_background": "light"
     },
     "output_type": "display_data"
    }
   ],
   "source": [
    "import statsmodels.api as sm\n",
    "sm.qqplot(residuals, line ='45')\n",
    "plt.show()"
   ]
  },
  {
   "cell_type": "markdown",
   "id": "5276cfe5",
   "metadata": {},
   "source": [
    "# Check for Independence of Errors:\n",
    "Ensure that the residuals are independent of each other. You can use the Durbin-Watson test for this."
   ]
  },
  {
   "cell_type": "code",
   "execution_count": 12,
   "id": "ff798b47",
   "metadata": {},
   "outputs": [
    {
     "name": "stdout",
     "output_type": "stream",
     "text": [
      "Durbin-Watson: [1.70570886]\n"
     ]
    }
   ],
   "source": [
    "from statsmodels.stats.stattools import durbin_watson\n",
    "dw = durbin_watson(residuals)\n",
    "print(f'Durbin-Watson: {dw}')"
   ]
  },
  {
   "cell_type": "code",
   "execution_count": 13,
   "id": "1ddb7b6e",
   "metadata": {},
   "outputs": [
    {
     "data": {
      "image/png": "[encoded data removed]",
      "text/plain": [
       "<Figure size 432x288 with 1 Axes>"
      ]
     },
     "metadata": {
      "needs_background": "light"
     },
     "output_type": "display_data"
    }
   ],
   "source": [
    "#prediction on training set\n",
    "plt.scatter(x_train,y_train,color='lightcoral')\n",
    "plt.plot(x_train,y_pred_train,color='firebrick')\n",
    "plt.title('Salary vs Experience(Training Set)')\n",
    "plt.xlabel('Experience')\n",
    "plt.ylabel('Salary')\n",
    "plt.show()"
   ]
  },
  {
   "cell_type": "code",
   "execution_count": 14,
   "id": "271011b4",
   "metadata": {},
   "outputs": [
    {
     "name": "stdout",
     "output_type": "stream",
     "text": [
      "Coefficient: [[9312.57512673]]\n",
      "Intercept: [26780.09915063]\n"
     ]
    }
   ],
   "source": [
    "print(f'Coefficient: {regressor.coef_}')\n",
    "print(f'Intercept: {regressor.intercept_}')"
   ]
  },
  {
   "cell_type": "markdown",
   "id": "804dc3f9",
   "metadata": {},
   "source": [
    "# So this is the equation to predict value\n",
    "\n",
    "Salary=26780.099+9312.575*(Experience)"
   ]
  },
  {
   "cell_type": "code",
   "execution_count": null,
   "id": "bcbe767d",
   "metadata": {},
   "outputs": [],
   "source": [
    "Salary=26780.099+9312.575*(4)\n",
    "print(Salary)"
   ]
  },
  {
   "cell_type": "markdown",
   "id": "c5faafb5",
   "metadata": {},
   "source": [
    "# Performance Metrics:\n",
    "Evaluate your model using metrics such as Mean Absolute Error (MAE), Mean Squared Error (MSE), and R-squared (R²)."
   ]
  },
  {
   "cell_type": "code",
   "execution_count": 15,
   "id": "0b3a0169",
   "metadata": {},
   "outputs": [
    {
     "name": "stdout",
     "output_type": "stream",
     "text": [
      "Mean Squared Error: 12823412.298126562\n",
      "Mean Absolute Error: 2446.1723690465064\n",
      "R-squared: 0.988169515729126\n"
     ]
    }
   ],
   "source": [
    "from sklearn.metrics import mean_squared_error, mean_absolute_error, r2_score\n",
    "\n",
    "mse = mean_squared_error(y_test, y_pred_test)\n",
    "mae = mean_absolute_error(y_test, y_pred_test)\n",
    "r2 = r2_score(y_test, y_pred_test)\n",
    "\n",
    "print(f'Mean Squared Error: {mse}')\n",
    "print(f'Mean Absolute Error: {mae}')\n",
    "print(f'R-squared: {r2}')"
   ]
  },
  {
   "cell_type": "markdown",
   "id": "5552a720",
   "metadata": {},
   "source": [
    "# Learning Curves:\n",
    "Plot learning curves to see if your model suffers from high bias or high variance."
   ]
  },
  {
   "cell_type": "code",
   "execution_count": 16,
   "id": "bf804fda",
   "metadata": {},
   "outputs": [
    {
     "data": {
      "image/png": "[encoded data removed]",
      "text/plain": [
       "<Figure size 432x288 with 1 Axes>"
      ]
     },
     "metadata": {
      "needs_background": "light"
     },
     "output_type": "display_data"
    }
   ],
   "source": [
    "from sklearn.model_selection import learning_curve\n",
    "\n",
    "train_sizes, train_scores, test_scores = learning_curve(regressor, x, y, cv=10, scoring='neg_mean_squared_error', train_sizes=np.linspace(0.1, 1.0, 10))\n",
    "\n",
    "train_scores_mean = -np.mean(train_scores, axis=1)\n",
    "test_scores_mean = -np.mean(test_scores, axis=1)\n",
    "\n",
    "plt.plot(train_sizes, train_scores_mean, 'o-', color='r', label='Training error')\n",
    "plt.plot(train_sizes, test_scores_mean, 'o-', color='g', label='Validation error')\n",
    "\n",
    "plt.xlabel('Training Size')\n",
    "plt.ylabel('Error')\n",
    "plt.title('Learning Curves')\n",
    "plt.legend(loc='best')\n",
    "plt.show()"
   ]
  }
 ],
 "metadata": {
  "kernelspec": {
   "display_name": "Python 3 (ipykernel)",
   "language": "python",
   "name": "python3"
  },
  "language_info": {
   "codemirror_mode": {
    "name": "ipython",
    "version": 3
   },
   "file_extension": ".py",
   "mimetype": "text/x-python",
   "name": "python",
   "nbconvert_exporter": "python",
   "pygments_lexer": "ipython3",
   "version": "3.9.7"
  }
 },
 "nbformat": 4,
 "nbformat_minor": 5
}
