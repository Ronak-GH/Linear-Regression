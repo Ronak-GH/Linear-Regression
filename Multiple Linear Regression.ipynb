{
 "cells": [
  {
   "cell_type": "code",
   "execution_count": null,
   "id": "9d624261",
   "metadata": {},
   "outputs": [],
   "source": [
    "import pandas as pd\n",
    "import numpy as np\n",
    "import matplotlib.pyplot as plt\n",
    "import seaborn as sns\n",
    "from sklearn.model_selection import train_test_split\n",
    "from sklearn.compose import ColumnTransformer\n",
    "from sklearn.preprocessing import OneHotEncoder\n",
    "from sklearn.linear_model import LinearRegression"
   ]
  },
  {
   "cell_type": "code",
   "execution_count": null,
   "id": "c4151ffc",
   "metadata": {},
   "outputs": [],
   "source": [
    "df_start=pd.read_csv(r'C:\\Users\\ronak\\Downloads\\Stat\\50_startups.csv')\n",
    "df_start.head()"
   ]
  },
  {
   "cell_type": "code",
   "execution_count": null,
   "id": "b609ab2b",
   "metadata": {},
   "outputs": [],
   "source": [
    "df_start.describe()"
   ]
  },
  {
   "cell_type": "code",
   "execution_count": null,
   "id": "242aa4db",
   "metadata": {},
   "outputs": [],
   "source": [
    "plt.title('Profit Distribution Plot')\n",
    "sns.distplot(df_start['Profit'])\n",
    "plt.show()"
   ]
  },
  {
   "cell_type": "code",
   "execution_count": null,
   "id": "b5c2f11f",
   "metadata": {},
   "outputs": [],
   "source": [
    "plt.scatter(df_start['R&D Spend'],df_start['Profit'],color='lightcoral')\n",
    "plt.title('R&D Spend vs Profit')\n",
    "plt.xlabel('R&D Spend')\n",
    "plt.ylabel('Profit')\n",
    "plt.box(False)\n",
    "plt.show()"
   ]
  },
  {
   "cell_type": "code",
   "execution_count": null,
   "id": "88104a11",
   "metadata": {},
   "outputs": [],
   "source": [
    "x=df_start.iloc[:,:-1].values\n",
    "y=df_start.iloc[:,-1].values"
   ]
  },
  {
   "cell_type": "code",
   "execution_count": null,
   "id": "495386cc",
   "metadata": {},
   "outputs": [],
   "source": [
    "#one hot encoding categorical variable\n",
    "ct=ColumnTransformer(transformers=[('encoder',OneHotEncoder(),[3])],remainder='passthrough')\n",
    "x=np.array(ct.fit_transform(x))"
   ]
  },
  {
   "cell_type": "markdown",
   "id": "f67bd8a0",
   "metadata": {},
   "source": [
    "# Check for Multicollinearity:"
   ]
  },
  {
   "cell_type": "code",
   "execution_count": null,
   "id": "6942b9ca",
   "metadata": {},
   "outputs": [],
   "source": [
    "from statsmodels.stats.outliers_influence import variance_inflation_factor\n",
    "\n",
    "vif_data = pd.DataFrame()\n",
    "vif_data[\"feature\"] = df_start.columns[:-1]  # or use appropriate column names\n",
    "vif_data[\"VIF\"] = [variance_inflation_factor(x, i) for i in range(x.shape[1])]\n",
    "\n",
    "print(vif_data)"
   ]
  },
  {
   "cell_type": "markdown",
   "id": "1d7455df",
   "metadata": {},
   "source": [
    "# Check Residuals for Homoscedasticity:"
   ]
  },
  {
   "cell_type": "code",
   "execution_count": null,
   "id": "08e5210f",
   "metadata": {},
   "outputs": [],
   "source": [
    "residuals = y_test - y_pred\n",
    "plt.scatter(y_pred, residuals)\n",
    "plt.xlabel('Predicted Profit')\n",
    "plt.ylabel('Residuals')\n",
    "plt.title('Residuals vs Predicted Profit')\n",
    "plt.show()"
   ]
  },
  {
   "cell_type": "markdown",
   "id": "ae44297d",
   "metadata": {},
   "source": [
    "# Check Residuals for Normality:"
   ]
  },
  {
   "cell_type": "code",
   "execution_count": null,
   "id": "b72392a7",
   "metadata": {},
   "outputs": [],
   "source": [
    "import statsmodels.api as sm\n",
    "sm.qqplot(residuals, line='45')\n",
    "plt.show()"
   ]
  },
  {
   "cell_type": "markdown",
   "id": "a514ee98",
   "metadata": {},
   "source": [
    "# Check for Independence of Errors:"
   ]
  },
  {
   "cell_type": "code",
   "execution_count": null,
   "id": "add60401",
   "metadata": {},
   "outputs": [],
   "source": [
    "from statsmodels.stats.stattools import durbin_watson\n",
    "dw = durbin_watson(residuals)\n",
    "print(f'Durbin-Watson: {dw}')"
   ]
  },
  {
   "cell_type": "code",
   "execution_count": null,
   "id": "8fe8554e",
   "metadata": {},
   "outputs": [],
   "source": [
    "x_train,x_test,y_train,y_test=train_test_split(x,y,test_size=0.2,random_state=0)"
   ]
  },
  {
   "cell_type": "code",
   "execution_count": null,
   "id": "e999c11a",
   "metadata": {},
   "outputs": [],
   "source": [
    "regressor=LinearRegression()\n",
    "regressor.fit(x_train,y_train)"
   ]
  },
  {
   "cell_type": "code",
   "execution_count": null,
   "id": "ad72f7b9",
   "metadata": {},
   "outputs": [],
   "source": [
    "#Predict result\n",
    "y_pred=regressor.predict(x_test)"
   ]
  },
  {
   "cell_type": "markdown",
   "id": "47be31eb",
   "metadata": {},
   "source": [
    "As we have multiple independent variables, we cannot plot the graph to compare results visually, instead, we can compare a few records of predicted results and actual values side by side."
   ]
  },
  {
   "cell_type": "code",
   "execution_count": null,
   "id": "449dc9d4",
   "metadata": {},
   "outputs": [],
   "source": [
    "#compare predicted result with actual value\n",
    "np.set_printoptions(precision=2)\n",
    "result=np.concatenate((y_pred.reshape(len(y_pred),1),y_test.reshape(len(y_test),1)),1)\n",
    "result"
   ]
  },
  {
   "cell_type": "markdown",
   "id": "32d1bf95",
   "metadata": {},
   "source": [
    "Coefficients\n",
    "We can get the coefficients and intercept of multiple linear regression equation y = β0 + β1x1 + β2x2 + β3x3 + … + βnxn from the regressor model."
   ]
  },
  {
   "cell_type": "code",
   "execution_count": null,
   "id": "c4ee3f8f",
   "metadata": {},
   "outputs": [],
   "source": [
    "print(f'Coefficient:{regressor.coef_}')\n",
    "print(f'Intercept:{regressor.intercept_}')"
   ]
  },
  {
   "cell_type": "markdown",
   "id": "92fd9738",
   "metadata": {},
   "source": [
    "# Model validation"
   ]
  },
  {
   "cell_type": "markdown",
   "id": "668b762e",
   "metadata": {},
   "source": [
    "Cross-Validation: Helps ensure that the model generalizes well to unseen data"
   ]
  },
  {
   "cell_type": "code",
   "execution_count": null,
   "id": "8e868d6c",
   "metadata": {},
   "outputs": [],
   "source": [
    "from sklearn.model_selection import cross_val_score\n",
    "scores = cross_val_score(regressor, x, y, cv=10, scoring='neg_mean_squared_error')\n",
    "print(f'Cross-Validation Scores: {-scores}')\n",
    "print(f'Mean MSE: {-scores.mean()}')"
   ]
  },
  {
   "cell_type": "markdown",
   "id": "7191dbc6",
   "metadata": {},
   "source": [
    "Performance Metrics:\n",
    "Mean Squared Error (MSE): Lower MSE indicates better model performance.\n",
    "Mean Absolute Error (MAE): Lower MAE indicates better model performance.\n",
    "R-squared (R²): Values closer to 1 indicate that a higher proportion \n",
    "    of the variance in the dependent variable is explained by the model."
   ]
  },
  {
   "cell_type": "code",
   "execution_count": null,
   "id": "124beca0",
   "metadata": {},
   "outputs": [],
   "source": [
    "from sklearn.metrics import mean_squared_error, mean_absolute_error, r2_score\n",
    "\n",
    "mse = mean_squared_error(y_test, y_pred)\n",
    "mae = mean_absolute_error(y_test, y_pred)\n",
    "r2 = r2_score(y_test, y_pred)\n",
    "\n",
    "print(f'Mean Squared Error: {mse}')\n",
    "print(f'Mean Absolute Error: {mae}')\n",
    "print(f'R-squared: {r2}')"
   ]
  },
  {
   "cell_type": "markdown",
   "id": "bbf23d10",
   "metadata": {},
   "source": [
    "Learning Curves: Shows how the model's performance changes with the size of the training data"
   ]
  },
  {
   "cell_type": "code",
   "execution_count": null,
   "id": "70a4fa69",
   "metadata": {},
   "outputs": [],
   "source": [
    "from sklearn.model_selection import learning_curve\n",
    "\n",
    "train_sizes, train_scores, test_scores = learning_curve(regressor, x, y, cv=10, scoring='neg_mean_squared_error', train_sizes=np.linspace(0.1, 1.0, 10))\n",
    "\n",
    "train_scores_mean = -np.mean(train_scores, axis=1)\n",
    "test_scores_mean = -np.mean(test_scores, axis=1)\n",
    "\n",
    "plt.plot(train_sizes, train_scores_mean, 'o-', color='r', label='Training error')\n",
    "plt.plot(train_sizes, test_scores_mean, 'o-', color='g', label='Validation error')\n",
    "\n",
    "plt.xlabel('Training Size')\n",
    "plt.ylabel('Error')\n",
    "plt.title('Learning Curves')\n",
    "plt.legend(loc='best')\n",
    "plt.show()"
   ]
  },
  {
   "cell_type": "code",
   "execution_count": null,
   "id": "2244b665",
   "metadata": {},
   "outputs": [],
   "source": [
    "import pandas as pd\n",
    "import numpy as np\n",
    "import matplotlib.pyplot as plt\n",
    "import seaborn as sns\n",
    "from sklearn.model_selection import train_test_split\n",
    "from sklearn.compose import ColumnTransformer\n",
    "from sklearn.preprocessing import OneHotEncoder\n",
    "from sklearn.linear_model import LinearRegression\n",
    "\n",
    "df_start=pd.read_csv(r'C:\\Users\\ronak\\Downloads\\Stat\\50_startups.csv')\n",
    "df_start.head()\n",
    "\n",
    "plt.title('Profit Distribution Plot')\n",
    "sns.distplot(df_start['Profit'])\n",
    "plt.show()\n",
    "\n",
    "plt.scatter(df_start['R&D Spend'],df_start['Profit'],color='lightcoral')\n",
    "plt.title('R&D Spend vs Profit')\n",
    "plt.xlabel('R&D Spend')\n",
    "plt.ylabel('Profit')\n",
    "plt.box(False)\n",
    "plt.show()\n",
    "\n",
    "x=df_start.iloc[:,:-1].values\n",
    "y=df_start.iloc[:,-1].values\n",
    "\n",
    "#one hot encoding categorical variable\n",
    "ct=ColumnTransformer(transformers=[('encoder',OneHotEncoder(),[3])],remainder='passthrough')\n",
    "x=np.array(ct.fit_transform(x))\n",
    "\n",
    "x_train,x_test,y_train,y_test=train_test_split(x,y,test_size=0.2,random_state=0)\n",
    "\n",
    "regressor=LinearRegression()\n",
    "regressor.fit(x_train,y_train)\n",
    "\n",
    "#Predict result\n",
    "y_pred=regressor.predict(x_test)\n",
    "\n",
    "#compare predicted result with actual value\n",
    "np.set_printoptions(precision=2)\n",
    "result=np.concatenate((y_pred.reshape(len(y_pred),1),y_test.reshape(len(y_test),1)),1)\n",
    "result\n",
    "\n",
    "print(f'Coefficient:{regressor.coef_}')\n",
    "print(f'Intercept:{regressor.intercept_}')\n"
   ]
  }
 ],
 "metadata": {
  "kernelspec": {
   "display_name": "Python 3 (ipykernel)",
   "language": "python",
   "name": "python3"
  },
  "language_info": {
   "codemirror_mode": {
    "name": "ipython",
    "version": 3
   },
   "file_extension": ".py",
   "mimetype": "text/x-python",
   "name": "python",
   "nbconvert_exporter": "python",
   "pygments_lexer": "ipython3",
   "version": "3.9.7"
  }
 },
 "nbformat": 4,
 "nbformat_minor": 5
}
